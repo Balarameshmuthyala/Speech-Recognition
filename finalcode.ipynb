{
 "cells": [
  {
   "cell_type": "code",
   "execution_count": 1,
   "id": "2e556d97-155b-451a-a9c1-60a63f6cf30a",
   "metadata": {},
   "outputs": [
    {
     "name": "stdout",
     "output_type": "stream",
     "text": [
      "Requirement already satisfied: SpeechRecognition in c:\\users\\ists6\\appdata\\local\\programs\\python\\python312\\lib\\site-packages (3.10.4)\n",
      "Requirement already satisfied: requests>=2.26.0 in c:\\users\\ists6\\appdata\\local\\programs\\python\\python312\\lib\\site-packages (from SpeechRecognition) (2.31.0)\n",
      "Requirement already satisfied: typing-extensions in c:\\users\\ists6\\appdata\\local\\programs\\python\\python312\\lib\\site-packages (from SpeechRecognition) (4.12.2)\n",
      "Requirement already satisfied: charset-normalizer<4,>=2 in c:\\users\\ists6\\appdata\\local\\programs\\python\\python312\\lib\\site-packages (from requests>=2.26.0->SpeechRecognition) (3.3.2)\n",
      "Requirement already satisfied: idna<4,>=2.5 in c:\\users\\ists6\\appdata\\local\\programs\\python\\python312\\lib\\site-packages (from requests>=2.26.0->SpeechRecognition) (3.6)\n",
      "Requirement already satisfied: urllib3<3,>=1.21.1 in c:\\users\\ists6\\appdata\\local\\programs\\python\\python312\\lib\\site-packages (from requests>=2.26.0->SpeechRecognition) (2.1.0)\n",
      "Requirement already satisfied: certifi>=2017.4.17 in c:\\users\\ists6\\appdata\\local\\programs\\python\\python312\\lib\\site-packages (from requests>=2.26.0->SpeechRecognition) (2023.11.17)\n",
      "Note: you may need to restart the kernel to use updated packages.\n"
     ]
    },
    {
     "name": "stderr",
     "output_type": "stream",
     "text": [
      "\n",
      "[notice] A new release of pip is available: 24.0 -> 24.2\n",
      "[notice] To update, run: python.exe -m pip install --upgrade pip\n"
     ]
    }
   ],
   "source": [
    "pip install SpeechRecognition"
   ]
  },
  {
   "cell_type": "code",
   "execution_count": 2,
   "id": "cd944b48-a8c4-48d9-9e8a-4be225a2a793",
   "metadata": {},
   "outputs": [
    {
     "name": "stdout",
     "output_type": "stream",
     "text": [
      "Collecting pyttsx3\n",
      "  Downloading pyttsx3-2.91-py3-none-any.whl.metadata (3.8 kB)\n",
      "Collecting comtypes (from pyttsx3)\n",
      "  Downloading comtypes-1.4.7-py3-none-any.whl.metadata (6.5 kB)\n",
      "Collecting pypiwin32 (from pyttsx3)\n",
      "  Downloading pypiwin32-223-py3-none-any.whl.metadata (236 bytes)\n",
      "Requirement already satisfied: pywin32 in c:\\users\\ists6\\appdata\\local\\programs\\python\\python312\\lib\\site-packages (from pyttsx3) (306)\n",
      "Downloading pyttsx3-2.91-py3-none-any.whl (33 kB)\n",
      "Downloading comtypes-1.4.7-py3-none-any.whl (226 kB)\n",
      "   ---------------------------------------- 0.0/226.8 kB ? eta -:--:--\n",
      "   - -------------------------------------- 10.2/226.8 kB ? eta -:--:--\n",
      "   ----- --------------------------------- 30.7/226.8 kB 325.1 kB/s eta 0:00:01\n",
      "   ----- --------------------------------- 30.7/226.8 kB 325.1 kB/s eta 0:00:01\n",
      "   ----- --------------------------------- 30.7/226.8 kB 325.1 kB/s eta 0:00:01\n",
      "   ----- --------------------------------- 30.7/226.8 kB 325.1 kB/s eta 0:00:01\n",
      "   ---------- ---------------------------- 61.4/226.8 kB 233.8 kB/s eta 0:00:01\n",
      "   ---------- ---------------------------- 61.4/226.8 kB 233.8 kB/s eta 0:00:01\n",
      "   -------------- ------------------------ 81.9/226.8 kB 218.5 kB/s eta 0:00:01\n",
      "   -------------- ------------------------ 81.9/226.8 kB 218.5 kB/s eta 0:00:01\n",
      "   ------------------ ------------------- 112.6/226.8 kB 261.9 kB/s eta 0:00:01\n",
      "   ------------------------ ------------- 143.4/226.8 kB 283.8 kB/s eta 0:00:01\n",
      "   ------------------------ ------------- 143.4/226.8 kB 283.8 kB/s eta 0:00:01\n",
      "   --------------------------- ---------- 163.8/226.8 kB 280.8 kB/s eta 0:00:01\n",
      "   --------------------------- ---------- 163.8/226.8 kB 280.8 kB/s eta 0:00:01\n",
      "   -------------------------------------  225.3/226.8 kB 327.3 kB/s eta 0:00:01\n",
      "   -------------------------------------- 226.8/226.8 kB 314.8 kB/s eta 0:00:00\n",
      "Downloading pypiwin32-223-py3-none-any.whl (1.7 kB)\n",
      "Installing collected packages: pypiwin32, comtypes, pyttsx3\n",
      "Successfully installed comtypes-1.4.7 pypiwin32-223 pyttsx3-2.91\n",
      "Note: you may need to restart the kernel to use updated packages.\n"
     ]
    },
    {
     "name": "stderr",
     "output_type": "stream",
     "text": [
      "\n",
      "[notice] A new release of pip is available: 24.0 -> 24.2\n",
      "[notice] To update, run: python.exe -m pip install --upgrade pip\n"
     ]
    }
   ],
   "source": [
    "pip install pyttsx3"
   ]
  },
  {
   "cell_type": "code",
   "execution_count": 3,
   "id": "a57e04aa-60d6-496b-9dc7-03103df1bcbb",
   "metadata": {},
   "outputs": [
    {
     "name": "stdout",
     "output_type": "stream",
     "text": [
      "Requirement already satisfied: openai in c:\\users\\ists6\\appdata\\local\\programs\\python\\python312\\lib\\site-packages (1.44.1)\n",
      "Requirement already satisfied: anyio<5,>=3.5.0 in c:\\users\\ists6\\appdata\\local\\programs\\python\\python312\\lib\\site-packages (from openai) (4.2.0)\n",
      "Requirement already satisfied: distro<2,>=1.7.0 in c:\\users\\ists6\\appdata\\local\\programs\\python\\python312\\lib\\site-packages (from openai) (1.9.0)\n",
      "Requirement already satisfied: httpx<1,>=0.23.0 in c:\\users\\ists6\\appdata\\local\\programs\\python\\python312\\lib\\site-packages (from openai) (0.27.2)\n",
      "Requirement already satisfied: jiter<1,>=0.4.0 in c:\\users\\ists6\\appdata\\local\\programs\\python\\python312\\lib\\site-packages (from openai) (0.5.0)\n",
      "Requirement already satisfied: pydantic<3,>=1.9.0 in c:\\users\\ists6\\appdata\\local\\programs\\python\\python312\\lib\\site-packages (from openai) (2.9.1)\n",
      "Requirement already satisfied: sniffio in c:\\users\\ists6\\appdata\\local\\programs\\python\\python312\\lib\\site-packages (from openai) (1.3.0)\n",
      "Requirement already satisfied: tqdm>4 in c:\\users\\ists6\\appdata\\local\\programs\\python\\python312\\lib\\site-packages (from openai) (4.66.5)\n",
      "Requirement already satisfied: typing-extensions<5,>=4.11 in c:\\users\\ists6\\appdata\\local\\programs\\python\\python312\\lib\\site-packages (from openai) (4.12.2)\n",
      "Requirement already satisfied: idna>=2.8 in c:\\users\\ists6\\appdata\\local\\programs\\python\\python312\\lib\\site-packages (from anyio<5,>=3.5.0->openai) (3.6)\n",
      "Requirement already satisfied: certifi in c:\\users\\ists6\\appdata\\local\\programs\\python\\python312\\lib\\site-packages (from httpx<1,>=0.23.0->openai) (2023.11.17)\n",
      "Requirement already satisfied: httpcore==1.* in c:\\users\\ists6\\appdata\\local\\programs\\python\\python312\\lib\\site-packages (from httpx<1,>=0.23.0->openai) (1.0.5)\n",
      "Requirement already satisfied: h11<0.15,>=0.13 in c:\\users\\ists6\\appdata\\local\\programs\\python\\python312\\lib\\site-packages (from httpcore==1.*->httpx<1,>=0.23.0->openai) (0.14.0)\n",
      "Requirement already satisfied: annotated-types>=0.6.0 in c:\\users\\ists6\\appdata\\local\\programs\\python\\python312\\lib\\site-packages (from pydantic<3,>=1.9.0->openai) (0.7.0)\n",
      "Requirement already satisfied: pydantic-core==2.23.3 in c:\\users\\ists6\\appdata\\local\\programs\\python\\python312\\lib\\site-packages (from pydantic<3,>=1.9.0->openai) (2.23.3)\n",
      "Requirement already satisfied: colorama in c:\\users\\ists6\\appdata\\local\\programs\\python\\python312\\lib\\site-packages (from tqdm>4->openai) (0.4.6)\n",
      "Note: you may need to restart the kernel to use updated packages.\n"
     ]
    },
    {
     "name": "stderr",
     "output_type": "stream",
     "text": [
      "\n",
      "[notice] A new release of pip is available: 24.0 -> 24.2\n",
      "[notice] To update, run: python.exe -m pip install --upgrade pip\n"
     ]
    }
   ],
   "source": [
    "pip install openai"
   ]
  },
  {
   "cell_type": "code",
   "execution_count": 2,
   "id": "7fce6c06-e2af-42b0-921e-200595866cb1",
   "metadata": {},
   "outputs": [
    {
     "name": "stdout",
     "output_type": "stream",
     "text": [
      "Note: you may need to restart the kernel to use updated packages.\n"
     ]
    },
    {
     "name": "stderr",
     "output_type": "stream",
     "text": [
      "ERROR: Could not find a version that satisfies the requirement tkinter (from versions: none)\n",
      "ERROR: No matching distribution found for tkinter\n",
      "\n",
      "[notice] A new release of pip is available: 24.0 -> 24.2\n",
      "[notice] To update, run: python.exe -m pip install --upgrade pip\n"
     ]
    }
   ],
   "source": [
    "pip install tkinter as tk"
   ]
  },
  {
   "cell_type": "code",
   "execution_count": null,
   "id": "5d60299c-1600-4f1e-941f-6fae74273eff",
   "metadata": {},
   "outputs": [],
   "source": [
    "import speech_recognition as sr\n",
    "import openai\n",
    "import pyttsx3\n",
    "import tkinter as tk\n",
    "\n",
    "# Function to capture speech and convert it to text\n",
    "def capture_speech():\n",
    "    recognizer = sr.Recognizer()\n",
    "    with sr.Microphone() as source:\n",
    "        print(\"Listening...\")\n",
    "        audio = recognizer.listen(source)\n",
    "        try:\n",
    "            text = recognizer.recognize_google(audio)\n",
    "            print(f\"Text: {text}\")\n",
    "            return text\n",
    "        except sr.UnknownValueError:\n",
    "            print(\"Could not understand audio\")\n",
    "        except sr.RequestError:\n",
    "            print(\"Could not request results\")\n",
    "    return \"\"\n",
    "\n",
    "\n",
    "# Function to get a response from the OpenAI LLM (GPT)\n",
    "def get_llm_response(text_input):\n",
    "    openai.api_key = \"your_openai_api_key\"  # Replace this with your OpenAI API key\n",
    "    response = openai.Completion.create(\n",
    "        engine=\"text-davinci-003\",\n",
    "        prompt=text_input,\n",
    "        max_tokens=100\n",
    "    )\n",
    "    return response.choices[0].text.strip()\n",
    "\n",
    "\n",
    "# Function to convert text to speech\n",
    "def text_to_speech(text):\n",
    "    engine = pyttsx3.init()\n",
    "    engine.say(text)\n",
    "    engine.runAndWait()\n",
    "\n",
    "\n",
    "# Main function to capture speech, get LLM response, and provide spoken response\n",
    "def start_bot():\n",
    "    input_text = capture_speech()\n",
    "    if input_text:\n",
    "        response = get_llm_response(input_text)\n",
    "        text_to_speech(response)\n",
    "\n",
    "\n",
    "# Setting up the GUI with tkinter\n",
    "root = tk.Tk()\n",
    "root.title(\"Speech-to-Speech LLM Bot\")\n",
    "\n",
    "# Create a button to start the bot\n",
    "button = tk.Button(root, text=\"Start\", command=start_bot)\n",
    "button.pack()\n",
    "\n",
    "# Start the GUI event loop\n",
    "root.mainloop()\n"
   ]
  }
 ],
 "metadata": {
  "kernelspec": {
   "display_name": "Python 3 (ipykernel)",
   "language": "python",
   "name": "python3"
  },
  "language_info": {
   "codemirror_mode": {
    "name": "ipython",
    "version": 3
   },
   "file_extension": ".py",
   "mimetype": "text/x-python",
   "name": "python",
   "nbconvert_exporter": "python",
   "pygments_lexer": "ipython3",
   "version": "3.12.1"
  }
 },
 "nbformat": 4,
 "nbformat_minor": 5
}
